{
  "cells": [
    {
      "cell_type": "code",
      "execution_count": null,
      "id": "e074fb1f",
      "metadata": {
        "id": "e074fb1f",
        "outputId": "634d11da-c2cf-46c1-b63d-0e49426cda21"
      },
      "outputs": [
        {
          "name": "stdout",
          "output_type": "stream",
          "text": [
            "Defaulting to user installation because normal site-packages is not writeable\n",
            "Requirement already satisfied: pymysql in /home/dbfla3831/.local/lib/python3.8/site-packages (1.0.2)\n",
            "Defaulting to user installation because normal site-packages is not writeable\n",
            "Requirement already satisfied: sqlalchemy in /package/anaconda3.8/lib/python3.8/site-packages (1.4.15)\n",
            "Requirement already satisfied: greenlet!=0.4.17 in /package/anaconda3.8/lib/python3.8/site-packages (from sqlalchemy) (1.0.0)\n"
          ]
        }
      ],
      "source": [
        "!pip install pymysql\n",
        "!pip install sqlalchemy"
      ]
    },
    {
      "cell_type": "code",
      "execution_count": null,
      "id": "b50b25c6",
      "metadata": {
        "id": "b50b25c6"
      },
      "outputs": [],
      "source": [
        "import os\n",
        "import time\n",
        "import pandas as pd\n",
        "import numpy as np\n",
        "import datetime\n",
        "import pymysql\n",
        "from sqlalchemy import create_engine\n",
        "import FinanceDataReader as fdr\n",
        "from tqdm import tqdm"
      ]
    },
    {
      "cell_type": "code",
      "execution_count": null,
      "id": "09dc7615",
      "metadata": {
        "id": "09dc7615"
      },
      "outputs": [],
      "source": [
        "code_data = pd.read_csv('./raw_data.csv', index_col = 0)"
      ]
    },
    {
      "cell_type": "markdown",
      "id": "6994f6ac",
      "metadata": {
        "id": "6994f6ac"
      },
      "source": [
        "code_date['상장일'] dtype을 object → datetime 변경"
      ]
    },
    {
      "cell_type": "code",
      "execution_count": null,
      "id": "d14ff461",
      "metadata": {
        "id": "d14ff461"
      },
      "outputs": [],
      "source": [
        "code_data['상장일'] = pd.to_datetime(code_data['상장일'])\n",
        "code_data['종목코드'] = code_data['종목코드'].apply(lambda x: str(x).zfill(6))"
      ]
    },
    {
      "cell_type": "markdown",
      "id": "bb86a5c9",
      "metadata": {
        "id": "bb86a5c9"
      },
      "source": [
        "# 과제 1"
      ]
    },
    {
      "cell_type": "markdown",
      "id": "938b44f4",
      "metadata": {
        "id": "938b44f4"
      },
      "source": [
        "데이터를 dataframe에서 list로 변환"
      ]
    },
    {
      "cell_type": "code",
      "execution_count": null,
      "id": "766ee7e5",
      "metadata": {
        "id": "766ee7e5"
      },
      "outputs": [],
      "source": [
        "lst_stock = code_data.values.tolist()"
      ]
    },
    {
      "cell_type": "markdown",
      "id": "05c7f612",
      "metadata": {
        "id": "05c7f612"
      },
      "source": [
        "dictionary 사용"
      ]
    },
    {
      "cell_type": "code",
      "execution_count": null,
      "id": "59d11888",
      "metadata": {
        "id": "59d11888"
      },
      "outputs": [],
      "source": [
        "dic_code2company = {}\n",
        "for row in lst_stock:\n",
        "    company, code, date = row[0], row[1], row[4]\n",
        "    if date <= datetime.datetime(2018, 1, 2):\n",
        "        dic_code2company[code] = company"
      ]
    },
    {
      "cell_type": "code",
      "execution_count": null,
      "id": "53fe7eeb",
      "metadata": {
        "id": "53fe7eeb"
      },
      "outputs": [],
      "source": [
        "OF = open('assignment1_sql.txt', 'w', encoding = 'utf-8')\n",
        "for code in dic_code2company.keys():\n",
        "    data = '{}\\t{}\\n'.format(code, dic_code2company[code])\n",
        "    OF.write(data)\n",
        "OF.close()"
      ]
    },
    {
      "cell_type": "markdown",
      "id": "fcdf3e65",
      "metadata": {
        "id": "fcdf3e65"
      },
      "source": [
        "# 과제 2"
      ]
    },
    {
      "cell_type": "code",
      "execution_count": null,
      "id": "1b11ae36",
      "metadata": {
        "id": "1b11ae36"
      },
      "outputs": [],
      "source": [
        "db_dsml = pymysql.connect(\n",
        "    host = 'localhost', \n",
        "    port = 3306, \n",
        "    user = 'stock_user', \n",
        "    passwd = 'bigdata', \n",
        "    db = 'stock', \n",
        "    charset = 'utf8'\n",
        ")\n",
        "\n",
        "cursor = db_dsml.cursor()"
      ]
    },
    {
      "cell_type": "code",
      "execution_count": null,
      "id": "98cd667b",
      "metadata": {
        "id": "98cd667b",
        "outputId": "df214b87-c992-41f2-f2ea-01f97de6e893"
      },
      "outputs": [
        {
          "name": "stderr",
          "output_type": "stream",
          "text": [
            "100%|█████████████████████████████████████████████████████████████████████| 1999/1999 [00:40<00:00, 48.96it/s]\n"
          ]
        }
      ],
      "source": [
        "dic_code2date = {}\n",
        "\n",
        "OF = open('assignment2_sql.txt', 'w', encoding = 'utf-8')\n",
        "for code in tqdm(dic_code2company.keys()):\n",
        "    sql_query = '''\n",
        "                SELECT *\n",
        "                FROM stock_{}\n",
        "                WHERE Date\n",
        "                BETWEEN '2018-01-01' AND '2021-12-31'\n",
        "                '''.format(code)\n",
        "    stock = pd.read_sql(sql = sql_query, con = db_dsml)\n",
        "    lst_stock = stock.values.tolist()\n",
        "    \n",
        "    for row in lst_stock:\n",
        "        if row[4] * row[5] >= 10000000000:\n",
        "            data = '{}\\t{}\\n'.format(code, row[0].strftime('%Y%m%d'))\n",
        "            OF.write(data)\n",
        "            if code not in dic_code2date.keys():\n",
        "                dic_code2date[code] = []\n",
        "                dic_code2date[code].append(row[0])\n",
        "            else:\n",
        "                dic_code2date[code].append(row[0])\n",
        "OF.close()"
      ]
    },
    {
      "cell_type": "markdown",
      "id": "b8826625",
      "metadata": {
        "id": "b8826625"
      },
      "source": [
        "# 과제 3 학습데이터셋"
      ]
    },
    {
      "cell_type": "code",
      "execution_count": null,
      "id": "8a9f99d1",
      "metadata": {
        "id": "8a9f99d1",
        "outputId": "fbc9759c-b2a7-4a45-cd0c-3f43bcd24c90"
      },
      "outputs": [
        {
          "name": "stderr",
          "output_type": "stream",
          "text": [
            "100%|█████████████████████████████████████████████████████████████████████| 1878/1878 [00:36<00:00, 51.71it/s]\n"
          ]
        }
      ],
      "source": [
        "OF = open('assignment3_sql.txt', 'w', encoding = 'utf-8')\n",
        "for code in tqdm(dic_code2date.keys()):\n",
        "    sql_query = '''\n",
        "                SELECT *\n",
        "                FROM stock_{}\n",
        "                WHERE Date\n",
        "                BETWEEN '2018-01-01' AND '2020-12-31'\n",
        "                '''.format(code)\n",
        "    stock = pd.read_sql(sql = sql_query, con = db_dsml)\n",
        "    lst_stock = stock.values.tolist()\n",
        "    \n",
        "    for i, row_lst_stock in enumerate(lst_stock):\n",
        "        # 예외 처리\n",
        "        if (i < 9) or (i >= len(lst_stock)-1):\n",
        "            continue  \n",
        "        date = row_lst_stock[0]\n",
        "        if date not in dic_code2date[code]:\n",
        "            continue\n",
        "        \n",
        "        # 11days data\n",
        "        sub_stock = lst_stock[i-9:i+1]\n",
        "        next_date = lst_stock[i+1][0]\n",
        "        lst_data = []\n",
        "        for row_sub_stock in sub_stock:\n",
        "            open, high, low, close, volume = row_sub_stock[1:6]\n",
        "            trading_value = close * volume\n",
        "            lst_data += [open, high, low, close, trading_value]\n",
        "            del open\n",
        "        data = ','.join(map(str, lst_data))\n",
        "        \n",
        "        # label\n",
        "        label = int(lst_stock[i+1][-1] >= 0.02)\n",
        "        \n",
        "        result = '{}\\t{}\\t{}\\t{}\\t{}\\n'.format(code, date.strftime(\"%Y%m%d\"),next_date.strftime(\"%Y%m%d\"), data, label)\n",
        "        OF.write(result)\n",
        "OF.close()"
      ]
    },
    {
      "cell_type": "markdown",
      "id": "c5c2247e",
      "metadata": {
        "id": "c5c2247e"
      },
      "source": [
        "# 과제 3-2 검증데이터셋"
      ]
    },
    {
      "cell_type": "code",
      "execution_count": null,
      "id": "cc0fa4b9",
      "metadata": {
        "id": "cc0fa4b9",
        "outputId": "cab7c0d9-0a33-417d-d3f6-5b504aa532e9"
      },
      "outputs": [
        {
          "name": "stderr",
          "output_type": "stream",
          "text": [
            "100%|████████████████████████████████████████████████████████████████████| 1878/1878 [00:07<00:00, 238.19it/s]\n"
          ]
        }
      ],
      "source": [
        "OF = open('assignment3-2_sql.txt', 'w', encoding = 'utf-8')\n",
        "for code in tqdm(dic_code2date.keys()):\n",
        "    sql_query = '''\n",
        "                SELECT *\n",
        "                FROM stock_{}\n",
        "                WHERE Date\n",
        "                BETWEEN '2021-01-01' AND '2021-06-30'\n",
        "                '''.format(code)\n",
        "    stock = pd.read_sql(sql = sql_query, con = db_dsml)\n",
        "    lst_stock = stock.values.tolist()\n",
        "    \n",
        "    for i, row_lst_stock in enumerate(lst_stock):\n",
        "        # 예외 처리\n",
        "        if (i < 9) or (i >= len(lst_stock)-1):\n",
        "            continue  \n",
        "        date = row_lst_stock[0]\n",
        "        if date not in dic_code2date[code]:\n",
        "            continue\n",
        "        \n",
        "        # 11 days data\n",
        "        sub_stock = lst_stock[i-9:i+1]\n",
        "        next_date = lst_stock[i+1][0]\n",
        "        lst_data = []\n",
        "        for row_sub_stock in sub_stock:\n",
        "            open, high, low, close, volume = row_sub_stock[1:6]\n",
        "            trading_value = close * volume\n",
        "            lst_data += [open, high, low, close, trading_value]\n",
        "            del open\n",
        "        data = ','.join(map(str, lst_data))\n",
        "        \n",
        "        # label\n",
        "        label = int(lst_stock[i+1][-1] >= 0.02)\n",
        "        \n",
        "        result = '{}\\t{}\\t{}\\t{}\\t{}\\n'.format(code, date.strftime(\"%Y%m%d\"),next_date.strftime(\"%Y%m%d\"), data, label)\n",
        "        OF.write(result)\n",
        "OF.close()"
      ]
    },
    {
      "cell_type": "markdown",
      "id": "a5a95447",
      "metadata": {
        "id": "a5a95447"
      },
      "source": [
        "# 과제3-3 private 시험데이터셋"
      ]
    },
    {
      "cell_type": "code",
      "execution_count": null,
      "id": "0f682228",
      "metadata": {
        "id": "0f682228",
        "outputId": "c36d5c56-e299-4c70-ac79-86171f0659b5"
      },
      "outputs": [
        {
          "name": "stderr",
          "output_type": "stream",
          "text": [
            "100%|████████████████████████████████████████████████████████████████████| 1878/1878 [00:09<00:00, 208.32it/s]\n"
          ]
        }
      ],
      "source": [
        "OF = open('assignment3-3_sql.txt', 'w', encoding = 'utf-8')\n",
        "for code in tqdm(dic_code2date.keys()):\n",
        "    sql_query = '''\n",
        "                SELECT *\n",
        "                FROM stock_{}\n",
        "                WHERE Date\n",
        "                BETWEEN '2021-07-01' AND '2021-12-31'\n",
        "                '''.format(code)\n",
        "    stock = pd.read_sql(sql = sql_query, con = db_dsml)\n",
        "    lst_stock = stock.values.tolist()\n",
        "    for i, row_lst_stock in enumerate(lst_stock):\n",
        "        # 예외 처리\n",
        "        if (i < 9) or (i >= len(lst_stock)-1):\n",
        "            continue  \n",
        "        date = row_lst_stock[0]\n",
        "        if date not in dic_code2date[code]:\n",
        "            continue\n",
        "        \n",
        "        # 11 days data\n",
        "        sub_stock = lst_stock[i-9:i+1]\n",
        "        next_date = lst_stock[i+1][0]\n",
        "        lst_data = []\n",
        "        for row_sub_stock in sub_stock:\n",
        "            open, high, low, close, volume = row_sub_stock[1:6]\n",
        "            trading_value = close * volume\n",
        "            lst_data += [open, high, low, close, trading_value]\n",
        "            del open\n",
        "        data = ','.join(map(str, lst_data))\n",
        "        \n",
        "        # label\n",
        "        label = int(lst_stock[i+1][-1] >= 0.02)\n",
        "        \n",
        "        result = '{}\\t{}\\t{}\\t{}\\t{}\\n'.format(code, date.strftime(\"%Y%m%d\"),next_date.strftime(\"%Y%m%d\"), data, label)\n",
        "        OF.write(result)\n",
        "OF.close()"
      ]
    },
    {
      "cell_type": "code",
      "execution_count": null,
      "id": "496d0a50",
      "metadata": {
        "id": "496d0a50"
      },
      "outputs": [],
      "source": [
        "import pickle\n",
        "from sklearn import svm\n",
        "\n",
        "import numpy as np\n",
        "from sklearn.naive_bayes import GaussianNB\n",
        "from sklearn.linear_model import LogisticRegression\n",
        "from sklearn.neighbors import KNeighborsClassifier\n",
        "from sklearn.svm import SVC\n",
        "\n",
        "from sklearn.ensemble import GradientBoostingClassifier\n",
        "from lightgbm import LGBMClassifier\n",
        "from xgboost import XGBClassifier"
      ]
    },
    {
      "cell_type": "markdown",
      "id": "45a626b4",
      "metadata": {
        "id": "45a626b4"
      },
      "source": [
        "# 과제 4 학습데이터셋"
      ]
    },
    {
      "cell_type": "code",
      "execution_count": null,
      "id": "209fb7ac",
      "metadata": {
        "scrolled": false,
        "id": "209fb7ac",
        "outputId": "ab187b88-48a8-49f2-eafb-0cd4b9f97f69"
      },
      "outputs": [
        {
          "name": "stderr",
          "output_type": "stream",
          "text": [
            "155946it [00:01, 105933.09it/s]\n",
            "/package/anaconda3.8/lib/python3.8/site-packages/xgboost/sklearn.py:1224: UserWarning: The use of label encoder in XGBClassifier is deprecated and will be removed in a future release. To remove this warning, do the following: 1) Pass option use_label_encoder=False when constructing XGBClassifier object; and 2) Encode your labels (y) as integers starting with 0, i.e. 0, 1, 2, ..., [num_class - 1].\n",
            "  warnings.warn(label_encoder_deprecation_msg, UserWarning)\n"
          ]
        },
        {
          "name": "stdout",
          "output_type": "stream",
          "text": [
            "[14:11:13] WARNING: ../src/learner.cc:1115: Starting in XGBoost 1.3.0, the default evaluation metric used with the objective 'binary:logistic' was changed from 'error' to 'logloss'. Explicitly set eval_metric if you'd like to restore the old behavior.\n"
          ]
        }
      ],
      "source": [
        "IF=open(\"assignment3_sql.txt\",'r')\n",
        "\n",
        "lst_code_date = []\n",
        "trainX = []\n",
        "trainY = []\n",
        "\n",
        "for line in tqdm(IF):\n",
        "    code, date, next_date, x, y = line.strip().split(\"\\t\")\n",
        "    lst_code_date.append([code, date, next_date])\n",
        "    trainX.append(list(map(int, x.split(\",\"))))\n",
        "    trainY.append(int(y))\n",
        "\n",
        "trainX=np.array(trainX)\n",
        "trainY=np.array(trainY)\n",
        "\n",
        "clf = XGBClassifier(n_estimators=300, nthread=1)\n",
        "clf.fit(trainX, trainY)\n",
        "\n",
        "with open('model_xgb.pickle', 'wb') as f:\n",
        "    pickle.dump(clf, f)"
      ]
    },
    {
      "cell_type": "markdown",
      "id": "ccce41a5",
      "metadata": {
        "id": "ccce41a5"
      },
      "source": [
        "# 과제 4-2 검증데이터셋"
      ]
    },
    {
      "cell_type": "code",
      "execution_count": null,
      "id": "5840439d",
      "metadata": {
        "id": "5840439d"
      },
      "outputs": [],
      "source": [
        "import numpy as np\n",
        "import sklearn.metrics as metrics\n",
        "import pickle\n",
        "from sklearn.linear_model import LogisticRegression\n",
        "\n",
        "IF=open(\"assignment3-2_sql.txt\",'r')\n",
        "lst_code_date=[]\n",
        "testX=[]\n",
        "testY=[]\n",
        "\n",
        "for line in IF:\n",
        "    code, date, next_date, x, y = line.strip().split(\"\\t\")\n",
        "    lst_code_date.append([code, date,next_date])\n",
        "    testX.append(list(map(int, x.split(\",\"))))\n",
        "    testY.append(int(y))\n",
        "testX=np.array(testX)\n",
        "testY=np.array(testY)\n",
        "\n",
        "with open('model_xgb.pickle', 'rb') as f:\n",
        "    clf = pickle.load(f)\n",
        "    \n",
        "predY = clf.predict_proba(testX) # predict_proba 함수는 예측한 값을 확률 값으로 출력\n",
        "predY2 = clf.predict(testX)  # predict 함수는 예측한 값을 이진 값(1 또는 0)으로 출력\n"
      ]
    },
    {
      "cell_type": "code",
      "execution_count": null,
      "id": "72338343",
      "metadata": {
        "id": "72338343",
        "outputId": "0a510597-48f6-4c6d-acf8-7ed1ece640c4"
      },
      "outputs": [
        {
          "name": "stdout",
          "output_type": "stream",
          "text": [
            "[[0.5359827  0.46401727]\n",
            " [0.76500416 0.23499581]\n",
            " [0.985542   0.01445801]\n",
            " ...\n",
            " [0.8210789  0.17892109]\n",
            " [0.81774926 0.18225077]\n",
            " [0.842813   0.15718696]]\n"
          ]
        }
      ],
      "source": [
        "print(predY)"
      ]
    },
    {
      "cell_type": "code",
      "execution_count": null,
      "id": "fc3677b5",
      "metadata": {
        "id": "fc3677b5"
      },
      "outputs": [],
      "source": [
        "lst_result=[]\n",
        "for (code, date, next_date),y in zip(lst_code_date, predY):\n",
        "    if y[1] >= 0.4:\n",
        "        lst_result.append([code, date, \"buy\", \"r90\"]) \n",
        "        lst_result.append([code, next_date, \"sell\", \"all\"])  \n",
        "        \n",
        "lst_result.sort(key=lambda x:x[1])\n",
        "\n",
        "OF=open('trading2022firsthalf.txt','w')\n",
        "for row in lst_result:\n",
        "    OF.write('\\t'.join(map(str,row))+'\\n')\n",
        "OF.close()"
      ]
    },
    {
      "cell_type": "markdown",
      "id": "4b898ba0",
      "metadata": {
        "id": "4b898ba0"
      },
      "source": [
        "# 과제 5 검증데이터셋 수익률"
      ]
    },
    {
      "cell_type": "code",
      "execution_count": null,
      "id": "90b010b1",
      "metadata": {
        "id": "90b010b1",
        "outputId": "5f6ca162-4068-44bb-9e4f-0f50bffc5b5d"
      },
      "outputs": [
        {
          "name": "stderr",
          "output_type": "stream",
          "text": [
            "4078it [00:04, 822.76it/s]"
          ]
        },
        {
          "name": "stdout",
          "output_type": "stream",
          "text": [
            "Final earning rate : 122.95991 %\n"
          ]
        },
        {
          "name": "stderr",
          "output_type": "stream",
          "text": [
            "\n"
          ]
        }
      ],
      "source": [
        "start_money = 10000000 # 초기 현금 1천만원\n",
        "money = start_money\n",
        "dic_code2num ={}  # 보유 종목\n",
        "\n",
        "\n",
        "IF=open(\"trading2022firsthalf.txt\",'r')\n",
        "for i, line in tqdm(enumerate(IF)): #주문 일지를 한 줄 읽어 옴\n",
        "    code, date, request, amount = line.strip().split(\"\\t\")\n",
        "    sql_query = '''\n",
        "                SELECT *\n",
        "                FROM stock_{}\n",
        "                WHERE Date = {}\n",
        "                '''.format(code, date)\n",
        "    lst_stock = pd.read_sql(sql = sql_query, con = db_dsml).values.tolist()\n",
        "    for row in lst_stock:\n",
        "#        if date in row[0].strftime('%Y%m%d'):\n",
        "        close = row[4]\n",
        "    \n",
        "    if request == 'buy': # buy인 경우\n",
        "        if amount.startswith('r'):\n",
        "            request_money = money * float(amount.lstrip(\"r\")) / 100\n",
        "        elif amount == 'all':\n",
        "            request_money = money\n",
        "        elif amount.isdigit():\n",
        "            request_money = int(amount)\n",
        "        # elif amount == ~~~~~    ##### 기타 필요한 매수 요청 옵션이 있을 시 작성\n",
        "        else:\n",
        "            raise Exception('Not permitted option')\n",
        "        request_money = min(request_money, money)\n",
        "        buy_num = int(request_money / close)\n",
        "        money -= buy_num * close  # 현재 금액(money)을 실제 매수액을 뺀 만큼 업데이트\n",
        "        if code not in dic_code2num:\n",
        "            dic_code2num[code] = 0\n",
        "        dic_code2num[code] += buy_num # 보유 종목 데이터에 구매 종목(code)를 매수 개수 만큼 증가\n",
        "    if request == 'sell': # sell인 경우\n",
        "        if amount == 'all':\n",
        "            sell_num = dic_code2num[code]\n",
        "        # elif amount == ~~~~~    ##### 기타 필요한 매도 요청 옵션이 있을 시 작성\n",
        "        else:\n",
        "            raise Exception('Not permitted option')            \n",
        "        money += sell_num * close\n",
        "        dic_code2num[code] -= sell_num\n",
        "        if dic_code2num[code] == 0:\n",
        "            del dic_code2num[code]\n",
        "IF.close()            \n",
        "            \n",
        "if dic_code2num != {}: # 매매가 종료되었는데 보유 종목이 있으면\n",
        "    raise Exception('Not empty stock') \n",
        "\n",
        "print(\"Final earning rate : {} %\".format(str((money-start_money) / start_money * 100)))            "
      ]
    },
    {
      "cell_type": "markdown",
      "id": "068b6b8f",
      "metadata": {
        "id": "068b6b8f"
      },
      "source": [
        "# private학습"
      ]
    },
    {
      "cell_type": "code",
      "execution_count": null,
      "id": "51338d23",
      "metadata": {
        "id": "51338d23",
        "outputId": "1bee51ca-4245-4c07-9c6a-9f48131ef204"
      },
      "outputs": [
        {
          "name": "stderr",
          "output_type": "stream",
          "text": [
            "155946it [00:01, 80434.92it/s] \n"
          ]
        },
        {
          "name": "stdout",
          "output_type": "stream",
          "text": [
            "[14:25:09] WARNING: ../src/learner.cc:1115: Starting in XGBoost 1.3.0, the default evaluation metric used with the objective 'binary:logistic' was changed from 'error' to 'logloss'. Explicitly set eval_metric if you'd like to restore the old behavior.\n"
          ]
        }
      ],
      "source": [
        "IF=open(\"assignment3_sql.txt\",'r')\n",
        "\n",
        "lst_code_date = []\n",
        "trainX = []\n",
        "trainY = []\n",
        "\n",
        "for line in tqdm(IF):\n",
        "    code, date, next_date, x, y = line.strip().split(\"\\t\")\n",
        "    lst_code_date.append([code, date, next_date])\n",
        "    trainX.append(list(map(int, x.split(\",\"))))\n",
        "    trainY.append(int(y))\n",
        "\n",
        "trainX=np.array(trainX)\n",
        "trainY=np.array(trainY)\n",
        "\n",
        "clf = XGBClassifier(n_estimators=300, nthread=1)\n",
        "clf.fit(trainX, trainY)\n",
        "\n",
        "with open('model_xgb.pickle', 'wb') as f:\n",
        "    pickle.dump(clf, f)"
      ]
    },
    {
      "cell_type": "code",
      "execution_count": null,
      "id": "7ed828ac",
      "metadata": {
        "id": "7ed828ac"
      },
      "outputs": [],
      "source": [
        "IF=open(\"assignment3-3_sql.txt\",'r')\n",
        "lst_code_date=[]\n",
        "private_testX=[]\n",
        "private_testY=[]\n",
        "\n",
        "for line in IF:\n",
        "    code, date, next_date, x, y = line.strip().split(\"\\t\")\n",
        "    lst_code_date.append([code, date, next_date])\n",
        "    private_testX.append(list(map(int, x.split(\",\"))))\n",
        "    private_testY.append(int(y))\n",
        "private_testX=np.array(private_testX)\n",
        "private_testY=np.array(private_testY)\n",
        "\n",
        "\n",
        "with open('model_xgb.pickle', 'rb') as f:\n",
        "    clf = pickle.load(f)\n",
        "\n",
        "private_predY = clf.predict_proba(private_testX)\n",
        "private_predY2 = clf.predict(private_testX)  # predict 함수는 예측한 값을 이진 값(1 또는 0)으로 출력\n",
        "# from sklearn.metrics import accuracy_score\n",
        "# accuracy = accuracy_score(testY, predY)\n",
        "# print(accuracy)"
      ]
    },
    {
      "cell_type": "code",
      "execution_count": null,
      "id": "73190077",
      "metadata": {
        "id": "73190077",
        "outputId": "3b74f90e-a932-4837-d3d4-d382ba8faf27"
      },
      "outputs": [
        {
          "data": {
            "text/plain": [
              "array([[0.8881538 , 0.1118462 ],\n",
              "       [0.8461855 , 0.15381448],\n",
              "       [0.84179854, 0.15820143],\n",
              "       ...,\n",
              "       [0.76006484, 0.23993513],\n",
              "       [0.8172713 , 0.18272871],\n",
              "       [0.5737015 , 0.4262985 ]], dtype=float32)"
            ]
          },
          "execution_count": 43,
          "metadata": {},
          "output_type": "execute_result"
        }
      ],
      "source": [
        "private_predY"
      ]
    },
    {
      "cell_type": "code",
      "execution_count": null,
      "id": "8f2954c9",
      "metadata": {
        "id": "8f2954c9"
      },
      "outputs": [],
      "source": [
        "lst_result=[]\n",
        "for (code, date, next_date),y in zip(lst_code_date, private_predY):\n",
        "    if y[1] >= 0.3:\n",
        "        lst_result.append([code, date, \"buy\", \"r80\"]) \n",
        "        lst_result.append([code, next_date, \"sell\", \"all\"])  \n",
        "        \n",
        "lst_result.sort(key=lambda x:x[1])\n",
        "\n",
        "OF=open('trading2022secondhalf.txt','w')\n",
        "for row in lst_result:\n",
        "    OF.write('\\t'.join(map(str,row))+'\\n')\n",
        "OF.close()"
      ]
    },
    {
      "cell_type": "code",
      "execution_count": null,
      "id": "b749aba3",
      "metadata": {
        "id": "b749aba3",
        "outputId": "4c4f3326-1929-49bc-fb93-36f444cba1f2"
      },
      "outputs": [
        {
          "name": "stderr",
          "output_type": "stream",
          "text": [
            "10048it [00:14, 674.44it/s]"
          ]
        },
        {
          "name": "stdout",
          "output_type": "stream",
          "text": [
            "Final earning rate : 29.20986 %\n"
          ]
        },
        {
          "name": "stderr",
          "output_type": "stream",
          "text": [
            "\n"
          ]
        }
      ],
      "source": [
        "start_money = 10000000 # 초기 현금 1천만원\n",
        "money = start_money\n",
        "dic_code2num ={}  # 보유 종목\n",
        "\n",
        "\n",
        "IF=open(\"trading2022secondhalf.txt\",'r')\n",
        "for i, line in tqdm(enumerate(IF)): #주문 일지를 한 줄 읽어 옴\n",
        "    code, date, request, amount = line.strip().split(\"\\t\")\n",
        "    sql_query = '''\n",
        "                SELECT *\n",
        "                FROM stock_{}\n",
        "                WHERE Date = {}\n",
        "                '''.format(code, date)\n",
        "    lst_stock = pd.read_sql(sql = sql_query, con = db_dsml).values.tolist()\n",
        "    for row in lst_stock:\n",
        "#        if date in row[0].strftime('%Y%m%d'):\n",
        "        close = row[4]\n",
        "    \n",
        "    if request == 'buy': # buy인 경우\n",
        "        if amount.startswith('r'):\n",
        "            request_money = money * float(amount.lstrip(\"r\")) / 100\n",
        "        elif amount == 'all':\n",
        "            request_money = money\n",
        "        elif amount.isdigit():\n",
        "            request_money = int(amount)\n",
        "        # elif amount == ~~~~~    ##### 기타 필요한 매수 요청 옵션이 있을 시 작성\n",
        "        else:\n",
        "            raise Exception('Not permitted option')\n",
        "        request_money = min(request_money, money)\n",
        "        buy_num = int(request_money / close)\n",
        "        money -= buy_num * close  # 현재 금액(money)을 실제 매수액을 뺀 만큼 업데이트\n",
        "        if code not in dic_code2num:\n",
        "            dic_code2num[code] = 0\n",
        "        dic_code2num[code] += buy_num # 보유 종목 데이터에 구매 종목(code)를 매수 개수 만큼 증가\n",
        "    if request == 'sell': # sell인 경우\n",
        "        if amount == 'all':\n",
        "            sell_num = dic_code2num[code]\n",
        "        # elif amount == ~~~~~    ##### 기타 필요한 매도 요청 옵션이 있을 시 작성\n",
        "        else:\n",
        "            raise Exception('Not permitted option')            \n",
        "        money += sell_num * close\n",
        "        dic_code2num[code] -= sell_num\n",
        "        if dic_code2num[code] == 0:\n",
        "            del dic_code2num[code]\n",
        "IF.close()            \n",
        "            \n",
        "if dic_code2num != {}: # 매매가 종료되었는데 보유 종목이 있으면\n",
        "    raise Exception('Not empty stock') \n",
        "\n",
        "print(\"Final earning rate : {} %\".format(str((money-start_money) / start_money * 100))) "
      ]
    },
    {
      "cell_type": "markdown",
      "id": "a63419bd",
      "metadata": {
        "id": "a63419bd"
      },
      "source": [
        "# 검증데이터셋 정확도"
      ]
    },
    {
      "cell_type": "code",
      "execution_count": null,
      "id": "64a8a31e",
      "metadata": {
        "id": "64a8a31e",
        "outputId": "86b9d62b-38a7-4307-838b-784d6eaf3813"
      },
      "outputs": [
        {
          "name": "stdout",
          "output_type": "stream",
          "text": [
            "[01:18:53] WARNING: ../src/learner.cc:1115: Starting in XGBoost 1.3.0, the default evaluation metric used with the objective 'binary:logistic' was changed from 'error' to 'logloss'. Explicitly set eval_metric if you'd like to restore the old behavior.\n",
            "0.7775924381428969\n"
          ]
        }
      ],
      "source": [
        "IF=open(\"assignment3_sql.txt\",'r')\n",
        "\n",
        "lst_code_date = []\n",
        "trainX = []\n",
        "trainY = []\n",
        "\n",
        "for line in IF:\n",
        "    code, date, next_date, x, y = line.strip().split(\"\\t\")\n",
        "    lst_code_date.append([code, date, next_date])\n",
        "    trainX.append(list(map(int, x.split(\",\"))))\n",
        "    trainY.append(int(y))\n",
        "\n",
        "trainX=np.array(trainX)\n",
        "trainY=np.array(trainY)\n",
        "\n",
        "clf = XGBClassifier(n_estimators=300, nthread=1)\n",
        "clf.fit(trainX, trainY)\n",
        "\n",
        "with open('model_xgb.pickle', 'wb') as f:\n",
        "    pickle.dump(clf, f)\n",
        "\n",
        "IF=open(\"assignment3-2_sql.txt\",'r')\n",
        "lst_code_date=[]\n",
        "testX=[]\n",
        "testY=[]\n",
        "\n",
        "for line in IF:\n",
        "    code, date, next_date, x, y = line.strip().split(\"\\t\")\n",
        "    lst_code_date.append([code, date,next_date])\n",
        "    testX.append(list(map(int, x.split(\",\"))))\n",
        "    testY.append(int(y))\n",
        "testX=np.array(testX)\n",
        "testY=np.array(testY)\n",
        "\n",
        "\n",
        "with open('model_xgb.pickle', 'rb') as f:\n",
        "    clf = pickle.load(f)\n",
        "    \n",
        "predY = clf.predict(testX)\n",
        "from sklearn.metrics import accuracy_score\n",
        "accuracy = accuracy_score(testY, predY)\n",
        "\n",
        "print(accuracy)"
      ]
    },
    {
      "cell_type": "markdown",
      "id": "70b7c8ff",
      "metadata": {
        "id": "70b7c8ff"
      },
      "source": [
        "# private 시험데이터셋 정확도"
      ]
    },
    {
      "cell_type": "code",
      "execution_count": null,
      "id": "bb996b6c",
      "metadata": {
        "id": "bb996b6c",
        "outputId": "4140dbb1-e27d-46c7-d627-54ff5379ed7d"
      },
      "outputs": [
        {
          "name": "stderr",
          "output_type": "stream",
          "text": [
            "155946it [00:01, 82732.65it/s] \n"
          ]
        },
        {
          "name": "stdout",
          "output_type": "stream",
          "text": [
            "[14:28:48] WARNING: ../src/learner.cc:1115: Starting in XGBoost 1.3.0, the default evaluation metric used with the objective 'binary:logistic' was changed from 'error' to 'logloss'. Explicitly set eval_metric if you'd like to restore the old behavior.\n",
            "0.7925925925925926\n"
          ]
        }
      ],
      "source": [
        "IF=open(\"assignment3_sql.txt\",'r')\n",
        "\n",
        "lst_code_date = []\n",
        "trainX = []\n",
        "trainY = []\n",
        "\n",
        "for line in tqdm(IF):\n",
        "    code, date, next_date, x, y = line.strip().split(\"\\t\")\n",
        "    lst_code_date.append([code, date, next_date])\n",
        "    trainX.append(list(map(int, x.split(\",\"))))\n",
        "    trainY.append(int(y))\n",
        "\n",
        "trainX=np.array(trainX)\n",
        "trainY=np.array(trainY)\n",
        "\n",
        "clf = XGBClassifier(n_estimators=300, nthread=1)\n",
        "clf.fit(trainX, trainY)\n",
        "\n",
        "with open('model_xgb.pickle', 'wb') as f:\n",
        "    pickle.dump(clf, f)\n",
        "    \n",
        "IF=open(\"assignment3-3_sql.txt\",'r')\n",
        "lst_code_date=[]\n",
        "private_testX=[]\n",
        "private_testY=[]\n",
        "\n",
        "for line in IF:\n",
        "    code, date, next_date, x, y = line.strip().split(\"\\t\")\n",
        "    lst_code_date.append([code, date, next_date])\n",
        "    private_testX.append(list(map(int, x.split(\",\"))))\n",
        "    private_testY.append(int(y))\n",
        "private_testX=np.array(private_testX)\n",
        "private_testY=np.array(private_testY)\n",
        "\n",
        "\n",
        "with open('model_xgb.pickle', 'rb') as f:\n",
        "    clf = pickle.load(f)\n",
        "\n",
        "private_predY = clf.predict(private_testX)\n",
        "from sklearn.metrics import accuracy_score\n",
        "accuracy = accuracy_score(private_testY,private_predY)\n",
        "print(accuracy)"
      ]
    },
    {
      "cell_type": "markdown",
      "id": "996d366f",
      "metadata": {
        "id": "996d366f"
      },
      "source": [
        "# 다양한 모델"
      ]
    },
    {
      "cell_type": "code",
      "execution_count": null,
      "id": "9d10d52b",
      "metadata": {
        "scrolled": false,
        "id": "9d10d52b",
        "outputId": "1a129156-b760-4532-b25a-6f220b3b0b6b"
      },
      "outputs": [
        {
          "name": "stdout",
          "output_type": "stream",
          "text": [
            "Logistic Regression: 0.7582152974504249 0.7730123406837953\n",
            "Decision tree: 1.0 0.6332186931013555\n",
            "Support vector machine: 0.7591359773371105 0.7730123406837953\n",
            "Gaussian naive bayes: 0.35637393767705383 0.33724458830669635\n",
            "K nearest neighbor: 0.7864022662889518 0.7210196237102974\n",
            "Random forest: 1.0 0.7689662148492818\n",
            "Gradient boosing: 0.7623937677053825 0.7713938903499898\n",
            "Neural network: 0.7077903682719546 0.7169734978757839\n"
          ]
        }
      ],
      "source": [
        "from sklearn.metrics import accuracy_score\n",
        "name=['Logistic regression','Decision tree','Support vector machine','Gaussian naive bayes','K nearest neighbor',\n",
        "     'Random forest', 'Gradient boosing','Neural network','XGBClassifier']\n",
        "result =[]\n",
        "# 1. Logistic regression\n",
        "from sklearn.linear_model import LogisticRegression\n",
        "model = LogisticRegression(max_iter=1000)\n",
        "model.fit(trainX, trainY)\n",
        "y_pred_train = model.predict(trainX)\n",
        "y_pred_test = model.predict(testX)\n",
        "result.append( accuracy_score(trainY, y_pred_train))\n",
        "\n",
        "print(\"Logistic Regression:\", accuracy_score(trainY, y_pred_train), accuracy_score(testY, y_pred_test))\n",
        "\n",
        "# 2. Decision tree\n",
        "from sklearn.tree import DecisionTreeClassifier\n",
        "model = DecisionTreeClassifier()\n",
        "model.fit(trainX, trainY)\n",
        "y_pred_train = model.predict(trainX)\n",
        "y_pred_test = model.predict(testX)\n",
        "result.append( accuracy_score(trainY, y_pred_train))\n",
        "\n",
        "print(\"Decision tree:\", accuracy_score(trainY, y_pred_train), accuracy_score(testY, y_pred_test))\n",
        "\n",
        "# 3. Support vector machine\n",
        "from sklearn.svm import SVC\n",
        "model = SVC()\n",
        "model.fit(trainX, trainY)\n",
        "y_pred_train = model.predict(trainX)\n",
        "y_pred_test = model.predict(testX)\n",
        "result.append( accuracy_score(trainY, y_pred_train))\n",
        "\n",
        "print(\"Support vector machine:\", accuracy_score(trainY, y_pred_train), accuracy_score(testY, y_pred_test))\n",
        "\n",
        "# 4. Gaussian naive bayes\n",
        "from sklearn.naive_bayes import GaussianNB\n",
        "model = GaussianNB()\n",
        "model.fit(trainX, trainY)\n",
        "y_pred_train = model.predict(trainX)\n",
        "y_pred_test = model.predict(testX)\n",
        "result.append( accuracy_score(trainY, y_pred_train))\n",
        "\n",
        "print(\"Gaussian naive bayes:\", accuracy_score(trainY, y_pred_train), accuracy_score(testY, y_pred_test))\n",
        "\n",
        "# 5. K nearest neighbor\n",
        "from sklearn.neighbors import KNeighborsClassifier\n",
        "model = KNeighborsClassifier()\n",
        "model.fit(trainX, trainY)\n",
        "y_pred_train = model.predict(trainX)\n",
        "y_pred_test = model.predict(testX)\n",
        "result.append( accuracy_score(trainY, y_pred_train))\n",
        "\n",
        "print(\"K nearest neighbor:\", accuracy_score(trainY, y_pred_train), accuracy_score(testY, y_pred_test))\n",
        "\n",
        "# 6. Random forest\n",
        "from sklearn.ensemble import RandomForestClassifier\n",
        "model = RandomForestClassifier()\n",
        "model.fit(trainX, trainY)\n",
        "y_pred_train = model.predict(trainX)\n",
        "y_pred_test = model.predict(testX)\n",
        "result.append( accuracy_score(trainY, y_pred_train))\n",
        "\n",
        "print(\"Random forest:\", accuracy_score(trainY, y_pred_train), accuracy_score(testY, y_pred_test))\n",
        "\n",
        "# 7. Gradient boosing\n",
        "from sklearn.ensemble import GradientBoostingClassifier\n",
        "model = GradientBoostingClassifier()\n",
        "model.fit(trainX, trainY)\n",
        "y_pred_train = model.predict(trainX)\n",
        "y_pred_test = model.predict(testX)\n",
        "result.append( accuracy_score(trainY, y_pred_train))\n",
        "\n",
        "print(\"Gradient boosing:\", accuracy_score(trainY, y_pred_train), accuracy_score(testY, y_pred_test))\n",
        "\n",
        "# 8. Neural network\n",
        "from sklearn.neural_network import MLPClassifier\n",
        "model = MLPClassifier(max_iter=1000)\n",
        "model.fit(trainX, trainY)\n",
        "y_pred_train = model.predict(trainX)\n",
        "y_pred_test = model.predict(testX)\n",
        "result.append( accuracy_score(trainY, y_pred_train))\n",
        "\n",
        "print(\"Neural network:\", accuracy_score(trainY, y_pred_train), accuracy_score(testY, y_pred_test))\n",
        "\n",
        "result.append(0.648158640226629)"
      ]
    },
    {
      "cell_type": "code",
      "execution_count": null,
      "id": "920b5c0f",
      "metadata": {
        "id": "920b5c0f",
        "outputId": "654de6b4-4124-47a3-ad23-31581aec63ac"
      },
      "outputs": [
        {
          "data": {
            "image/png": "[encoded data removed]",
            "text/plain": [
              "<Figure size 432x288 with 1 Axes>"
            ]
          },
          "metadata": {
            "needs_background": "light"
          },
          "output_type": "display_data"
        }
      ],
      "source": [
        "from matplotlib import pyplot as plt #matplotlib.pyplot 불러오기\n",
        "\n",
        "plt.barh(name, result, color = \"blue\") #막대그래프 그리기\n",
        "plt.ylabel(\"accuracy_scsore\") #y축 라벨 설정\n",
        "plt.xlabel(result) #x축 라벨 설정\n",
        "plt.title('train_accuracy') #그래프 제목 설정\n",
        "plt.show() #막대그래\n"
      ]
    }
  ],
  "metadata": {
    "kernelspec": {
      "display_name": "Python 3 (ipykernel)",
      "language": "python",
      "name": "python3"
    },
    "language_info": {
      "codemirror_mode": {
        "name": "ipython",
        "version": 3
      },
      "file_extension": ".py",
      "mimetype": "text/x-python",
      "name": "python",
      "nbconvert_exporter": "python",
      "pygments_lexer": "ipython3",
      "version": "3.8.12"
    },
    "toc": {
      "base_numbering": 1,
      "nav_menu": {},
      "number_sections": true,
      "sideBar": true,
      "skip_h1_title": false,
      "title_cell": "Table of Contents",
      "title_sidebar": "Contents",
      "toc_cell": false,
      "toc_position": {
        "height": "calc(100% - 180px)",
        "left": "10px",
        "top": "150px",
        "width": "177.778px"
      },
      "toc_section_display": true,
      "toc_window_display": true
    },
    "colab": {
      "provenance": []
    }
  },
  "nbformat": 4,
  "nbformat_minor": 5
}