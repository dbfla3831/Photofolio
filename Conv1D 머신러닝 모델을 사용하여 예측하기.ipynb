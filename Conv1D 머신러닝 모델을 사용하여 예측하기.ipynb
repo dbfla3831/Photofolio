{
  "cells": [
    {
      "cell_type": "markdown",
      "metadata": {
        "id": "d6DmNrpz2X4N"
      },
      "source": [
        "#1.라이브러리 불러오기"
      ]
    },
    {
      "cell_type": "code",
      "execution_count": null,
      "metadata": {
        "id": "snys7xH69lxh"
      },
      "outputs": [],
      "source": [
        "import pandas as pd\n",
        "from prophet import Prophet\n",
        "import matplotlib.pyplot as plt\n",
        "import seaborn as sns\n",
        "from pandas import Series\n",
        "import plotly.offline as pyo\n",
        "import plotly.graph_objs as go\n",
        "import zipfile\n",
        "from tqdm import tqdm\n",
        "import numpy as np\n",
        "from sklearn.linear_model import LinearRegression\n",
        "from sklearn.ensemble import RandomForestClassifier\n",
        "import datetime\n",
        "from sklearn.metrics import mean_absolute_error\n",
        "\n",
        "import torch\n",
        "from torch import nn\n",
        "from torch.autograd import Variable\n",
        "import torch.nn.functional as F\n",
        "\n",
        "plt.rc(\"font\", family=\"Malgun Gothic\") # window\n",
        "plt.rc(\"axes\", unicode_minus=False) # x,y축 (-)부호 표시"
      ]
    },
    {
      "cell_type": "markdown",
      "metadata": {
        "id": "hnxdziTJ2a0-"
      },
      "source": [
        "#2.데이터 불러오기"
      ]
    },
    {
      "cell_type": "code",
      "source": [
        "train"
      ],
      "metadata": {
        "id": "zEnlTe-W8Zy8"
      },
      "execution_count": null,
      "outputs": []
    },
    {
      "cell_type": "markdown",
      "metadata": {
        "id": "FG-34NtDFqDp"
      },
      "source": [
        "##1.train nan 값 처리"
      ]
    },
    {
      "cell_type": "code",
      "execution_count": null,
      "metadata": {
        "colab": {
          "base_uri": "https://localhost:8080/"
        },
        "id": "DpeB7iTJFuI1",
        "outputId": "caaed50b-7065-404d-c542-5abd1a9c15df"
      },
      "outputs": [
        {
          "output_type": "execute_result",
          "data": {
            "text/plain": [
              "datetime               0\n",
              "4단지배수지 공업 유출유량 적산차    12\n",
              "dtype: int64"
            ]
          },
          "metadata": {},
          "execution_count": 6
        }
      ],
      "source": [
        "train.isnull().sum()"
      ]
    },
    {
      "cell_type": "code",
      "execution_count": null,
      "metadata": {
        "id": "curXpvEiFuF-"
      },
      "outputs": [],
      "source": [
        "train = train.fillna(method = 'ffill') #이전행으로"
      ]
    },
    {
      "cell_type": "code",
      "execution_count": null,
      "metadata": {
        "colab": {
          "base_uri": "https://localhost:8080/"
        },
        "id": "9hX_lD6CFuDf",
        "outputId": "c66dd26d-539b-466a-9dfc-521e02ab821f"
      },
      "outputs": [
        {
          "output_type": "execute_result",
          "data": {
            "text/plain": [
              "datetime              0\n",
              "4단지배수지 공업 유출유량 적산차    0\n",
              "dtype: int64"
            ]
          },
          "metadata": {},
          "execution_count": 8
        }
      ],
      "source": [
        "train.isnull().sum()"
      ]
    },
    {
      "cell_type": "code",
      "source": [
        "test "
      ],
      "metadata": {
        "id": "OLJhvrAOtkp_"
      },
      "execution_count": null,
      "outputs": []
    },
    {
      "cell_type": "code",
      "execution_count": null,
      "metadata": {
        "colab": {
          "base_uri": "https://localhost:8080/"
        },
        "id": "EPQRietbF3co",
        "outputId": "8528b8ac-dfcb-4998-d0bd-4a58c4d3e5a0"
      },
      "outputs": [
        {
          "output_type": "execute_result",
          "data": {
            "text/plain": [
              "datetime              0\n",
              "4단지배수지 공업 유출유량 적산차    0\n",
              "dtype: int64"
            ]
          },
          "metadata": {},
          "execution_count": 10
        }
      ],
      "source": [
        "test.isnull().sum()"
      ]
    },
    {
      "cell_type": "code",
      "execution_count": null,
      "metadata": {
        "id": "XMrug-_PwqdW"
      },
      "outputs": [],
      "source": [
        "result\n"
      ]
    },
    {
      "cell_type": "markdown",
      "metadata": {
        "id": "Qy4ya98l2jCC"
      },
      "source": [
        "#3.이상치 제거하기"
      ]
    },
    {
      "cell_type": "code",
      "execution_count": null,
      "metadata": {
        "id": "vD5bdW3tCpGs"
      },
      "outputs": [],
      "source": [
        "from sklearn.preprocessing import minmax_scale"
      ]
    },
    {
      "cell_type": "code",
      "source": [
        "train.cpumns = [['datetime', 'y']]\n",
        "test.columns = [['datetime', 'y']]"
      ],
      "metadata": {
        "id": "3QDnewIB8eGz"
      },
      "execution_count": null,
      "outputs": []
    },
    {
      "cell_type": "code",
      "execution_count": null,
      "metadata": {
        "id": "mOMmH8-vwqbQ"
      },
      "outputs": [],
      "source": [
        "#이상치 제거 해야지\n",
        "\n",
        "def dr_outlier(df):\n",
        "    quartile_1 = df.quantile(0.25)\n",
        "    quartile_3 = df.quantile(0.75)\n",
        "    IQR = quartile_3 - quartile_1\n",
        "\n",
        "    condition = (df < (quartile_1 - 1.5 * IQR)) | (df > (quartile_3 + 1.5 * IQR))\n",
        "    df[condition]=np.mean(df)\n",
        "    \n",
        "\n",
        "    # df[condition] = minmax_scale(df)\n",
        "\n",
        "    # for i in range(len(df)):\n",
        "    #   if (df[i] < (quartile_1 - 1.5 * IQR)) | (df[i] > (quartile_3 + 1.5 * IQR)):\n",
        "    #     df[i] = df[i-1]\n",
        "    return df\n"
      ]
    },
    {
      "cell_type": "code",
      "execution_count": null,
      "metadata": {
        "colab": {
          "base_uri": "https://localhost:8080/"
        },
        "id": "yJwvMK1wwqVw",
        "outputId": "90673fac-3b3d-4bbd-bc73-89d1cd8319e2"
      },
      "outputs": [
        {
          "output_type": "stream",
          "name": "stderr",
          "text": [
            "<ipython-input-13-aff5a8001096>:9: SettingWithCopyWarning:\n",
            "\n",
            "\n",
            "A value is trying to be set on a copy of a slice from a DataFrame\n",
            "\n",
            "See the caveats in the documentation: https://pandas.pydata.org/pandas-docs/stable/user_guide/indexing.html#returning-a-view-versus-a-copy\n",
            "\n"
          ]
        }
      ],
      "source": [
        "train['y'] = dr_outlier(train['y'])"
      ]
    },
    {
      "cell_type": "code",
      "execution_count": null,
      "metadata": {
        "id": "9CxyW0eq-W3q"
      },
      "outputs": [],
      "source": [
        "import keras \n",
        "from keras.layers import Input, Embedding, LSTM, Dense\n",
        "from keras.models import Model\n",
        "\n",
        "from tensorflow.keras.models import Sequential\n",
        "from tensorflow.keras.layers import Dense, BatchNormalization\n",
        "\n",
        "import tensorflow as tf"
      ]
    },
    {
      "cell_type": "markdown",
      "metadata": {
        "id": "c9SOtKWXmKbP"
      },
      "source": [
        "##1.정규화하기"
      ]
    },
    {
      "cell_type": "code",
      "source": [
        "df_all = pd.concat([train, test])\n",
        "df_all.index = df_all['datetime']\n",
        "df_all = df_all.drop(['datetime'], axis = 1)"
      ],
      "metadata": {
        "id": "OY5SOtiwts_w"
      },
      "execution_count": null,
      "outputs": []
    },
    {
      "cell_type": "code",
      "execution_count": null,
      "metadata": {
        "id": "WJPKIoXdwQJi"
      },
      "outputs": [],
      "source": [
        "from sklearn.preprocessing import MinMaxScaler\n",
        "# from sklearn.preprocessing import RobustScaler\n",
        "scaler = MinMaxScaler()\n",
        "# scaler = RobustScaler()\n",
        "df_y = scaler.fit_transform(df_all)"
      ]
    },
    {
      "cell_type": "code",
      "source": [
        "df_all['y'] = df_y\n",
        "df_all = df_all.reset_index(drop = False)"
      ],
      "metadata": {
        "id": "VjKfufVOtvfd"
      },
      "execution_count": null,
      "outputs": []
    },
    {
      "cell_type": "code",
      "execution_count": null,
      "metadata": {
        "id": "SKYj4FtcoGjo"
      },
      "outputs": [],
      "source": [
        "idx_train = len(train)\n",
        "idx_test = len(test)"
      ]
    },
    {
      "cell_type": "code",
      "source": [
        "train = df_all.iloc[:idx_train]\n",
        "test = df_all.iloc[idx_train:]"
      ],
      "metadata": {
        "id": "12jQkiw_txIK"
      },
      "execution_count": null,
      "outputs": []
    },
    {
      "cell_type": "code",
      "source": [
        "idx = []\n",
        "for i in range(len(test)):\n",
        "  idx.append(i)\n",
        "test.index = idx"
      ],
      "metadata": {
        "id": "sQHrK5nvty47"
      },
      "execution_count": null,
      "outputs": []
    },
    {
      "cell_type": "markdown",
      "metadata": {
        "id": "uPAnIHBQ61Az"
      },
      "source": [
        "#4.예측(2021-12-31 23:0:00)"
      ]
    },
    {
      "cell_type": "markdown",
      "metadata": {
        "id": "J5sCbtMJBjI0"
      },
      "source": [
        "##1.모델 학습(1시간만 먼저 예측해서 학습)"
      ]
    },
    {
      "cell_type": "code",
      "execution_count": null,
      "metadata": {
        "id": "rbnM5btvsOHr"
      },
      "outputs": [],
      "source": [
        "import datetime"
      ]
    },
    {
      "cell_type": "code",
      "execution_count": null,
      "metadata": {
        "id": "IBDXN4NQ_Rb4"
      },
      "outputs": [],
      "source": [
        "def add_next_date(df):\n",
        "  lst_next_date = []\n",
        "  current = datetime.datetime.strptime(df.iloc[-1]['datetime'], \"%Y-%m-%d %H:%M:%S\")\n",
        "  next_date = current + datetime.timedelta(hours=1)\n",
        "  lst_next_date.append(next_date)\n",
        "  \n",
        "  plus_time = pd.DataFrame(lst_next_date, columns=[\"datetime\"])\n",
        "  plus_time\n",
        "\n",
        "  df = pd.concat([df, plus_time])\n",
        "  df[\"datetime\"] = df[\"datetime\"].astype(str)\n",
        "  df.reset_index(drop=True, inplace=True)\n",
        "  df = df.fillna(0)\n",
        "  return df"
      ]
    },
    {
      "cell_type": "code",
      "execution_count": null,
      "metadata": {
        "id": "8GamNlB4_Er3"
      },
      "outputs": [],
      "source": [
        "def add_cloumns(df):\n",
        "    df = df.astype({'datetime' : str})\n",
        "    df['year'] = [date.split('-')[0] for date in df['datetime']]\n",
        "    df['month'] = [date.split('-')[1] for date in df['datetime']]\n",
        "    df['day'] = [date.split('-')[2] for date in df['datetime']]\n",
        "    df['day'] = [date.split(' ')[0] for date in df['day']]\n",
        "    df['hour'] = [date.split(' ')[-1] for date in df['datetime']]\n",
        "    df['hour'] = [date.split(':')[0] for date in df['hour']]\n",
        "    df=df.astype({'year':\"int\",'month':\"int\",'day':\"int\",'hour':\"int\"})\n",
        "    return df"
      ]
    },
    {
      "cell_type": "code",
      "execution_count": null,
      "metadata": {
        "id": "9I7bBZFD_fR9"
      },
      "outputs": [],
      "source": [
        "#모델 Conv1D할 때만 필요\n",
        "def data_reshape(df):\n",
        "  df = np.array(df)\n",
        "  df = np.reshape(df, (len(df), 4, 1))\n",
        "  return df"
      ]
    },
    {
      "cell_type": "code",
      "execution_count": null,
      "metadata": {
        "id": "U4C-rzOu_No7"
      },
      "outputs": [],
      "source": [
        "test = add_next_date(test)\n",
        "\n",
        "train_data=add_cloumns(train)\n",
        "test_data=add_cloumns(test)\n",
        "\n",
        "x_train=train_data[['year','month','day','hour']]\n",
        "y_train=train_data['y']\n",
        "\n",
        "x_test=test_data[['year','month','day','hour']]\n",
        "y_test=test_data['y']\n",
        "\n",
        "#모델 Conv1D할 때만 필요\n",
        "x_train = data_reshape(x_train)\n",
        "x_test = data_reshape(x_test)"
      ]
    },
    {
      "cell_type": "code",
      "execution_count": null,
      "metadata": {
        "id": "aKEcV2td_Nhg"
      },
      "outputs": [],
      "source": [
        "from tensorflow.keras.layers import Dense, Conv1D, Flatten\n",
        "from keras.callbacks import ModelCheckpoint, EarlyStopping"
      ]
    },
    {
      "cell_type": "code",
      "execution_count": null,
      "metadata": {
        "id": "F6mPsB_TALki"
      },
      "outputs": [],
      "source": [
        "#모델은 잘 나온걸로 학습\n",
        "#모델 구성\n",
        "model = keras.Sequential()\n",
        "model.add(Conv1D(4, 3, activation = 'relu', input_shape = (4, 1)))\n",
        "model.add(Flatten())\n",
        "model.add(Dense(512, activation = 'relu'))\n",
        "model.add(Dense(256, activation = 'relu'))\n",
        "# model.add(Dense(64, activation = 'relu'))\n",
        "model.add(Dense(128, activation = 'relu'))\n",
        "# model.add(Dense(128, activation = 'relu'))\n",
        "model.add(Dense(64, activation = 'relu'))\n",
        "model.add(Dense(32, activation = 'relu'))\n",
        "model.add(Dense(16, activation = 'relu'))\n",
        "model.add(Dense(1))\n",
        "\n",
        "#모델 학습과정 설정\n",
        "optimizers=keras.optimizers.Adam(lr=0.001, beta_1=0.9, beta_2=0.999, epsilon=None, decay=0.0, amsgrad=False)\n",
        "model.compile(optimizer=optimizers, loss=\"mse\", metrics=\"mae\")\n",
        "\n",
        "\n",
        "early_stopping = EarlyStopping(monitor=\"val_loss\",\n",
        "                               patience=50)\n",
        "#모델 학습\n",
        "model.fit(x_train,y_train,epochs=20,batch_size=32,callbacks=early_stopping,validation_data=(x_test, y_test))"
      ]
    },
    {
      "cell_type": "code",
      "execution_count": null,
      "metadata": {
        "colab": {
          "base_uri": "https://localhost:8080/"
        },
        "id": "QKCW8M9nDn4u",
        "outputId": "5eae1680-d5f1-4617-c6f7-715d0fe132df"
      },
      "outputs": [
        {
          "output_type": "stream",
          "name": "stdout",
          "text": [
            "264/264 [==============================] - 1s 2ms/step - loss: 0.0131 - mae: 0.0881\n",
            "0.08808225393295288\n",
            "0.013063675723969936\n",
            "264/264 [==============================] - 1s 2ms/step\n"
          ]
        }
      ],
      "source": [
        "#모델 평가\n",
        "test_mse_score, test_mae_score = model.evaluate(x_test, y_test)\n",
        "print(test_mae_score)\n",
        "print(test_mse_score)\n",
        "\n",
        "predictions = model.predict(x_test)"
      ]
    },
    {
      "cell_type": "code",
      "execution_count": null,
      "metadata": {
        "id": "gjogyAuUALg8"
      },
      "outputs": [],
      "source": [
        "#파일명은 자신이 선정한 모델로 바꾸기\n",
        "from keras.models import load_model\n",
        "model.save('./ConvD1_model.h5')"
      ]
    },
    {
      "cell_type": "code",
      "execution_count": null,
      "metadata": {
        "colab": {
          "base_uri": "https://localhost:8080/"
        },
        "id": "3CvUHPi6ALeR",
        "outputId": "8c364024-d50c-4f93-d398-a78a119f423d"
      },
      "outputs": [
        {
          "output_type": "stream",
          "name": "stderr",
          "text": [
            "/usr/local/lib/python3.8/dist-packages/pandas/core/indexing.py:1732: SettingWithCopyWarning:\n",
            "\n",
            "\n",
            "A value is trying to be set on a copy of a slice from a DataFrame\n",
            "\n",
            "See the caveats in the documentation: https://pandas.pydata.org/pandas-docs/stable/user_guide/indexing.html#returning-a-view-versus-a-copy\n",
            "\n"
          ]
        }
      ],
      "source": [
        "test['y'].iloc[-1] = predictions[-1]"
      ]
    },
    {
      "cell_type": "markdown",
      "metadata": {
        "id": "407SZDHPBp3S"
      },
      "source": [
        "##2.모델 불러와서 나머지 예측"
      ]
    },
    {
      "cell_type": "code",
      "source": [
        "a = test.copy()"
      ],
      "metadata": {
        "id": "Mf7HiciXgLor"
      },
      "execution_count": null,
      "outputs": []
    },
    {
      "cell_type": "markdown",
      "metadata": {
        "id": "2ndbyDpVHZC-"
      },
      "source": [
        "- 5~10분 정도 걸려요!!!"
      ]
    },
    {
      "cell_type": "code",
      "execution_count": null,
      "metadata": {
        "id": "9ycslTwM7cuX"
      },
      "outputs": [],
      "source": [
        "for i in tqdm(range(335)):\n",
        "  a = add_next_date(a)\n",
        "\n",
        "  train_data=add_cloumns(train)\n",
        "  test_data=add_cloumns(a)\n",
        "\n",
        "  x_train=train_data[['year','month','day','hour']]\n",
        "  y_train=train_data['y']\n",
        "\n",
        "  x_test=test_data[['year','month','day','hour']]\n",
        "  y_test=test_data['y']\n",
        "\n",
        "  #모델 Conv1D할 때만 필요\n",
        "  x_train = data_reshape(x_train)\n",
        "  x_test = data_reshape(x_test)\n",
        "\n",
        "  from keras.models import load_model\n",
        "  new_model = load_model('./ConvD1_model.h5') #내가 저장한 파일로 불러오기\n",
        "\n",
        "  predictions = new_model.predict(x_test)\n",
        "\n",
        "\n",
        "  a.iloc[[-1], [1]] = predictions[-1]"
      ]
    },
    {
      "cell_type": "markdown",
      "metadata": {
        "id": "A9hVcVSVBUxJ"
      },
      "source": [
        "#5.전체 예측"
      ]
    },
    {
      "cell_type": "code",
      "source": [
        "train_data=add_cloumns(train)\n",
        "test_data=add_cloumns(a)\n",
        "\n",
        "x_train=train_data[['year','month','day','hour']]\n",
        "y_train=train_data['y']\n",
        "\n",
        "x_test=test_data[['year','month','day','hour']]\n",
        "y_test=test_data['y']\n",
        "\n",
        "x_train = np.array(x_train)\n",
        "x_train = np.reshape(x_train, (len(x_train), 4, 1))\n",
        "\n",
        "x_test = np.array(x_test)\n",
        "x_test = np.reshape(x_test, (len(x_test), 4, 1))\n",
        "\n",
        "model = load_model('./ConvD1_model.h5') #내가 저장한 파일로 불러오기\n",
        "\n",
        "test_mse_score, test_mae_score = model.evaluate(x_test, y_test)\n",
        "\n",
        "predictions = model.predict(x_test)"
      ],
      "metadata": {
        "colab": {
          "base_uri": "https://localhost:8080/"
        },
        "id": "SGUKDJIao5y8",
        "outputId": "50e29e90-6542-460d-c107-117754e8d5d0"
      },
      "execution_count": null,
      "outputs": [
        {
          "output_type": "stream",
          "name": "stdout",
          "text": [
            "274/274 [==============================] - 1s 2ms/step - loss: 0.0126 - mae: 0.0847\n",
            "274/274 [==============================] - 1s 2ms/step\n"
          ]
        }
      ]
    },
    {
      "cell_type": "markdown",
      "metadata": {
        "id": "uzHNODi22-I_"
      },
      "source": [
        "#6.결과 집어 넣기"
      ]
    },
    {
      "cell_type": "markdown",
      "metadata": {
        "id": "MSIXafU690r5"
      },
      "source": [
        "##1.역전규화"
      ]
    },
    {
      "cell_type": "code",
      "execution_count": null,
      "metadata": {
        "colab": {
          "base_uri": "https://localhost:8080/"
        },
        "id": "8ZC8LlRM90A_",
        "outputId": "83cb2e46-112f-44b9-b123-902fc86942b5"
      },
      "outputs": [
        {
          "output_type": "execute_result",
          "data": {
            "text/plain": [
              "array([[433.04794],\n",
              "       [433.08008],\n",
              "       [433.11215],\n",
              "       ...,\n",
              "       [451.98196],\n",
              "       [452.0088 ],\n",
              "       [452.03558]], dtype=float32)"
            ]
          },
          "metadata": {},
          "execution_count": 78
        }
      ],
      "source": [
        "predictions = scaler.inverse_transform(predictions)\n",
        "predictions"
      ]
    },
    {
      "cell_type": "code",
      "execution_count": null,
      "metadata": {
        "colab": {
          "base_uri": "https://localhost:8080/"
        },
        "id": "THrQ05ZauS15",
        "outputId": "acfd6fd3-fb89-4175-db5e-38f30428fbf1"
      },
      "outputs": [
        {
          "output_type": "execute_result",
          "data": {
            "text/plain": [
              "8760"
            ]
          },
          "metadata": {},
          "execution_count": 79
        }
      ],
      "source": [
        "len(predictions)"
      ]
    },
    {
      "cell_type": "code",
      "execution_count": null,
      "metadata": {
        "id": "gelq_HFqyM4V"
      },
      "outputs": [],
      "source": [
        "def result_csv(df):\n",
        "  df_y_pred = pd.DataFrame(data = df, columns=[\"y_pred\"])\n",
        "\n",
        "  lst_data = []\n",
        "\n",
        "  for i in range(0, len(df)-335):\n",
        "      data = df_y_pred[\"y_pred\"].loc[i:i+335].values.tolist()\n",
        "      lst_data.append(data) \n",
        "\n",
        "  df_submission = pd.DataFrame(data=lst_data, columns=result.columns[1:])\n",
        "\n",
        "  file = pd.concat([result[\"datetime\"], df_submission], axis=1)\n",
        "  file.columns = result.columns\n",
        "\n",
        "  evaluation2 = file.loc[:8424]\n",
        "\n",
        "  mission_result=evaluation2[evaluation2.columns[:]]\n",
        "  mission_result.to_csv('task3.csv',encoding='CP949',index=False)\n",
        "\n",
        "  return mission_result"
      ]
    },
    {
      "cell_type": "code",
      "source": [
        "result_csv(predictions)"
      ],
      "metadata": {
        "id": "a1OwAnfKppEQ"
      },
      "execution_count": null,
      "outputs": []
    }
  ],
  "metadata": {
    "colab": {
      "provenance": []
    },
    "gpuClass": "standard",
    "kernelspec": {
      "display_name": "Python 3",
      "name": "python3"
    },
    "language_info": {
      "name": "python"
    }
  },
  "nbformat": 4,
  "nbformat_minor": 0
}