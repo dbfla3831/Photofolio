{
  "nbformat": 4,
  "nbformat_minor": 0,
  "metadata": {
    "colab": {
      "provenance": [],
      "toc_visible": true
    },
    "kernelspec": {
      "name": "python3",
      "display_name": "Python 3"
    },
    "language_info": {
      "name": "python"
    },
    "gpuClass": "standard",
    "accelerator": "GPU"
  },
  "cells": [
    {
      "cell_type": "code",
      "source": [
        "# 라이브러리\n",
        "import pandas as pd\n",
        "import matplotlib.pyplot as plt\n",
        "import seaborn as sns\n",
        "from pandas import Series\n",
        "import plotly.offline as pyo\n",
        "import plotly.graph_objs as go\n",
        "import zipfile\n",
        "from tqdm import tqdm\n",
        "import numpy as np\n",
        "from sklearn.linear_model import LinearRegression\n",
        "from sklearn.ensemble import RandomForestClassifier\n",
        "import datetime\n",
        "plt.rc(\"font\", family=\"Malgun Gothic\") # window\n",
        "plt.rc(\"axes\", unicode_minus=False) # x,y축 (-)부호 표시"
      ],
      "metadata": {
        "id": "x3REnnmLZBqW"
      },
      "execution_count": 3,
      "outputs": []
    },
    {
      "cell_type": "markdown",
      "source": [
        "#1.데이터 불러오기"
      ],
      "metadata": {
        "id": "Uzf6c5JtZlPo"
      }
    },
    {
      "cell_type": "code",
      "source": [
        "train"
      ],
      "metadata": {
        "id": "W-Aw0E43ZBcb"
      },
      "execution_count": null,
      "outputs": []
    },
    {
      "cell_type": "code",
      "source": [
        "test"
      ],
      "metadata": {
        "id": "IajKyNgzaJk3"
      },
      "execution_count": null,
      "outputs": []
    },
    {
      "cell_type": "code",
      "source": [
        "result"
      ],
      "metadata": {
        "id": "mgfJe-AjaJiW"
      },
      "execution_count": null,
      "outputs": []
    },
    {
      "cell_type": "markdown",
      "source": [
        "#2.전처리"
      ],
      "metadata": {
        "id": "wGDx0-hJi_jf"
      }
    },
    {
      "cell_type": "code",
      "source": [
        "train.columns = ['ds', 'y']"
      ],
      "metadata": {
        "id": "yNPrCwHUuxqN"
      },
      "execution_count": null,
      "outputs": []
    },
    {
      "cell_type": "code",
      "source": [
        "train = train.astype({\"ds\":'str'})\n",
        "train['year'] = [date.split('-')[0] for date in train['ds']]\n",
        "train['month'] = [date.split('-')[1] for date in train['ds']]\n",
        "train['day'] = [date.split('-')[2] for date in train['ds']]\n",
        "train['day'] = [date.split(' ')[0] for date in train['day']]\n",
        "train['hour'] = [date.split(' ')[-1] for date in train['ds']]\n",
        "train['hour'] = [date.split(':')[0] for date in train['hour']]\n",
        "train = train.drop(['ds'], axis = 1)\n",
        "train[['year', 'month', 'day', 'hour']] = train[['year', 'month', 'day', 'hour']].astype(int)\n",
        "train"
      ],
      "metadata": {
        "id": "KNy-HE3cjBO4"
      },
      "execution_count": null,
      "outputs": []
    },
    {
      "cell_type": "markdown",
      "source": [
        "##1.계절별로 전처리(3-5 : 0, 6-8 : 1, 9-11 : 2, 12-2 : 3)"
      ],
      "metadata": {
        "id": "LgpWwHFokY_3"
      }
    },
    {
      "cell_type": "code",
      "source": [
        "dic_month2season = {1: 3, \n",
        "                    2: 3, \n",
        "                    3: 0, \n",
        "                    4: 0, \n",
        "                    5: 0, \n",
        "                    6: 1, \n",
        "                    7: 1, \n",
        "                    8: 1, \n",
        "                    9: 2, \n",
        "                    10: 2, \n",
        "                    11: 2, \n",
        "                    12: 3,\n",
        "                   }"
      ],
      "metadata": {
        "id": "qmTv8XaSjBJe"
      },
      "execution_count": 10,
      "outputs": []
    },
    {
      "cell_type": "code",
      "source": [
        "train[\"season\"] = train[\"month\"].map(dic_month2season)"
      ],
      "metadata": {
        "id": "mgn6IR6gkroG"
      },
      "execution_count": 12,
      "outputs": []
    },
    {
      "cell_type": "markdown",
      "source": [
        "#3.LinearRegression(결측치 : 0)"
      ],
      "metadata": {
        "id": "Pq_vAV8uT4Hb"
      }
    },
    {
      "cell_type": "markdown",
      "source": [
        "##1.Train"
      ],
      "metadata": {
        "id": "2_udWaynlP8o"
      }
    },
    {
      "cell_type": "code",
      "source": [
        "train['y'] = train[\"y\"].fillna(0)"
      ],
      "metadata": {
        "id": "hYSZLjaIXNXG"
      },
      "execution_count": 13,
      "outputs": []
    },
    {
      "cell_type": "code",
      "source": [
        "X_train = train[[\"year\", \"month\", \"day\", \"hour\", \"season\"]]\n",
        "y_train = train[\"y\"]"
      ],
      "metadata": {
        "id": "v8a6-tV0kri3"
      },
      "execution_count": 14,
      "outputs": []
    },
    {
      "cell_type": "code",
      "source": [
        "from sklearn.linear_model import LinearRegression"
      ],
      "metadata": {
        "id": "hu07MMbykrgf"
      },
      "execution_count": 15,
      "outputs": []
    },
    {
      "cell_type": "code",
      "source": [
        "LR = LinearRegression()"
      ],
      "metadata": {
        "id": "54GVCR8_kreH"
      },
      "execution_count": 16,
      "outputs": []
    },
    {
      "cell_type": "code",
      "source": [
        "LR.fit(X_train, y_train)"
      ],
      "metadata": {
        "colab": {
          "base_uri": "https://localhost:8080/"
        },
        "id": "O4mqA_sllok4",
        "outputId": "5d559e3b-a354-41b8-f86f-91293ac3766b"
      },
      "execution_count": 17,
      "outputs": [
        {
          "output_type": "execute_result",
          "data": {
            "text/plain": [
              "LinearRegression()"
            ]
          },
          "metadata": {},
          "execution_count": 17
        }
      ]
    },
    {
      "cell_type": "markdown",
      "source": [
        "##2.Test셋"
      ],
      "metadata": {
        "id": "vTeL1GKblrFg"
      }
    },
    {
      "cell_type": "markdown",
      "source": [
        "###1.예측할 날짜 추가(마지막날이 없어서)"
      ],
      "metadata": {
        "id": "taJwIGqznhyg"
      }
    },
    {
      "cell_type": "code",
      "source": [
        "lst_time = []\n",
        "current_time = datetime.datetime.strptime(result[\"datetime\"].loc[8424], \"%Y-%m-%d %H:%M:%S\")\n",
        "lst_time.append(current_time)\n",
        "\n",
        "for i in range(335):\n",
        "    one_hour_later = current_time + datetime.timedelta(hours=1)\n",
        "    current_time = one_hour_later\n",
        "    lst_time.append(one_hour_later)"
      ],
      "metadata": {
        "id": "UJXqgbVJlohm"
      },
      "execution_count": 18,
      "outputs": []
    },
    {
      "cell_type": "code",
      "source": [
        "plus_time = pd.DataFrame(lst_time, columns=[\"datetime\"])"
      ],
      "metadata": {
        "id": "er8f40xnloek"
      },
      "execution_count": 19,
      "outputs": []
    },
    {
      "cell_type": "code",
      "source": [
        "test = pd.concat([test, plus_time], axis=0)\n",
        "test[\"datetime\"] = test[\"datetime\"].astype(str)\n",
        "test.reset_index(drop=True, inplace=True)"
      ],
      "metadata": {
        "id": "n4JTCAr9i8EX"
      },
      "execution_count": 20,
      "outputs": []
    },
    {
      "cell_type": "code",
      "source": [
        "test.columns = [\"ds\", \"y\"]"
      ],
      "metadata": {
        "id": "O8Sz7v8RoDFI"
      },
      "execution_count": 21,
      "outputs": []
    },
    {
      "cell_type": "markdown",
      "source": [
        "###2.계절별로 전처리(3-5 : 0, 6-8 : 1, 9-11 : 2, 12-2 : 3)"
      ],
      "metadata": {
        "id": "eO1Rx5c3oVEP"
      }
    },
    {
      "cell_type": "code",
      "source": [
        "test = test.astype({\"ds\":'str'})\n",
        "test['year'] = [date.split('-')[0] for date in test['ds']]\n",
        "test['month'] = [date.split('-')[1] for date in test['ds']]\n",
        "test['day'] = [date.split('-')[2] for date in test['ds']]\n",
        "test['day'] = [date.split(' ')[0] for date in test['day']]\n",
        "test['hour'] = [date.split(' ')[-1] for date in test['ds']]\n",
        "test['hour'] = [date.split(':')[0] for date in test['hour']]\n",
        "test = test.drop(['ds'], axis = 1)\n",
        "test[['year', 'month', 'day', 'hour']] = test[['year', 'month', 'day', 'hour']].astype(int)"
      ],
      "metadata": {
        "id": "gKsgZN08oDBX"
      },
      "execution_count": 22,
      "outputs": []
    },
    {
      "cell_type": "code",
      "source": [
        "test[\"season\"] = test[\"month\"].map(dic_month2season)"
      ],
      "metadata": {
        "id": "JIl0tQpkoC-x"
      },
      "execution_count": 23,
      "outputs": []
    },
    {
      "cell_type": "code",
      "source": [
        "X_test = test[[\"year\", \"month\", \"day\", \"hour\", \"season\"]]\n",
        "y_test = test['y']"
      ],
      "metadata": {
        "id": "iokveMuAoC8Q"
      },
      "execution_count": 24,
      "outputs": []
    },
    {
      "cell_type": "markdown",
      "source": [
        "##3..predict"
      ],
      "metadata": {
        "id": "xqjGN_rPpCug"
      }
    },
    {
      "cell_type": "code",
      "source": [
        "y_pred = LR.predict(X_test)"
      ],
      "metadata": {
        "id": "XVBytx8goC5x"
      },
      "execution_count": 25,
      "outputs": []
    },
    {
      "cell_type": "code",
      "source": [
        "y_pred"
      ],
      "metadata": {
        "colab": {
          "base_uri": "https://localhost:8080/"
        },
        "id": "dMQjP19LpIPY",
        "outputId": "69d17c07-a863-4b57-f902-e8559b6bd7fc"
      },
      "execution_count": 26,
      "outputs": [
        {
          "output_type": "execute_result",
          "data": {
            "text/plain": [
              "array([ 239.84183222,  287.38034587,  334.91885953, ..., 1785.58412288,\n",
              "       1833.12263654, 1880.6611502 ])"
            ]
          },
          "metadata": {},
          "execution_count": 26
        }
      ]
    },
    {
      "cell_type": "code",
      "source": [
        "df_y_pred = pd.DataFrame(data=y_pred, columns=[\"y_pred\"])"
      ],
      "metadata": {
        "id": "SDv91UlTpIMw"
      },
      "execution_count": 27,
      "outputs": []
    },
    {
      "cell_type": "code",
      "source": [
        "lst_data = []\n",
        "\n",
        "for i in range(0, len(y_pred)-335):\n",
        "    data = df_y_pred[\"y_pred\"].loc[i:i+335].values.tolist()\n",
        "    lst_data.append(data)\n"
      ],
      "metadata": {
        "id": "3FejgU8NpPkQ"
      },
      "execution_count": 28,
      "outputs": []
    },
    {
      "cell_type": "code",
      "source": [
        "df_submission = pd.DataFrame(data=lst_data)\n",
        "df_submission"
      ],
      "metadata": {
        "id": "yAC3y-MpHHjt"
      },
      "execution_count": null,
      "outputs": []
    },
    {
      "cell_type": "markdown",
      "source": [
        "##4.Submission"
      ],
      "metadata": {
        "id": "zkW9nGeSpnXI"
      }
    },
    {
      "cell_type": "code",
      "source": [
        "file = pd.concat([result[\"datetime\"], df_submission], axis=1)\n",
        "file.columns = result.columns\n",
        "file"
      ],
      "metadata": {
        "id": "2HRCi6jOpPfP"
      },
      "execution_count": null,
      "outputs": []
    },
    {
      "cell_type": "markdown",
      "source": [
        "##5.평가"
      ],
      "metadata": {
        "id": "-wf9PdLIqMDY"
      }
    },
    {
      "cell_type": "code",
      "source": [
        "from sklearn.metrics import mean_absolute_error"
      ],
      "metadata": {
        "id": "XCJmMQFIpIKf"
      },
      "execution_count": 31,
      "outputs": []
    },
    {
      "cell_type": "code",
      "source": [
        "y_pred\n",
        "df_y_pred"
      ],
      "metadata": {
        "id": "QTMOwu2mRau-"
      },
      "execution_count": null,
      "outputs": []
    },
    {
      "cell_type": "code",
      "source": [
        "test['y'] = test[\"y\"].fillna(0)"
      ],
      "metadata": {
        "id": "pErn3GA_RasG"
      },
      "execution_count": 33,
      "outputs": []
    },
    {
      "cell_type": "code",
      "source": [
        "mean_absolute_error(y_test, y_pred)"
      ],
      "metadata": {
        "colab": {
          "base_uri": "https://localhost:8080/"
        },
        "id": "coRFtjz3Rapr",
        "outputId": "75b4c550-85c2-4edc-a52e-89cc20aab8ae"
      },
      "execution_count": 34,
      "outputs": [
        {
          "output_type": "execute_result",
          "data": {
            "text/plain": [
              "940.7204578413583"
            ]
          },
          "metadata": {},
          "execution_count": 34
        }
      ]
    },
    {
      "cell_type": "code",
      "source": [
        "lst_data = []\n",
        "\n",
        "for i in range(0, len(y_pred)-335):\n",
        "    data = y_test.loc[i:i+335].values.tolist()\n",
        "    lst_data.append(data)"
      ],
      "metadata": {
        "id": "S7VkEGl_RanC"
      },
      "execution_count": 35,
      "outputs": []
    },
    {
      "cell_type": "code",
      "source": [
        "submission_test = pd.DataFrame(lst_data, columns=result.columns[1:])"
      ],
      "metadata": {
        "id": "bqKQtFG8RakG"
      },
      "execution_count": 36,
      "outputs": []
    },
    {
      "cell_type": "code",
      "source": [
        "submission_test = pd.concat([result[\"datetime\"], submission_test], axis=1)"
      ],
      "metadata": {
        "id": "zFJb0o5YRahD"
      },
      "execution_count": 37,
      "outputs": []
    },
    {
      "cell_type": "code",
      "source": [
        "evaluation1 = submission_test.dropna()\n",
        "evaluation2 = file.loc[:8424]"
      ],
      "metadata": {
        "id": "JwI33KFwRael"
      },
      "execution_count": 38,
      "outputs": []
    },
    {
      "cell_type": "code",
      "source": [
        "mission_result=evaluation2[evaluation2.columns[:]]\n",
        "mission_result"
      ],
      "metadata": {
        "id": "utGftHe_TZhd"
      },
      "execution_count": null,
      "outputs": []
    },
    {
      "cell_type": "code",
      "source": [
        "mission_result.to_csv('LinearRegression.csv',encoding='CP949',index=False)"
      ],
      "metadata": {
        "id": "U0XyrsJsTZeZ"
      },
      "execution_count": null,
      "outputs": []
    }
  ]
}